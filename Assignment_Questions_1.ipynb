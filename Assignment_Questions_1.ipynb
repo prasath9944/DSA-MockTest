{
  "nbformat": 4,
  "nbformat_minor": 0,
  "metadata": {
    "colab": {
      "provenance": [],
      "authorship_tag": "ABX9TyOAu3ubBdTnH9ev0QdouaPK",
      "include_colab_link": true
    },
    "kernelspec": {
      "name": "python3",
      "display_name": "Python 3"
    },
    "language_info": {
      "name": "python"
    }
  },
  "cells": [
    {
      "cell_type": "markdown",
      "metadata": {
        "id": "view-in-github",
        "colab_type": "text"
      },
      "source": [
        "<a href=\"https://colab.research.google.com/github/prasath9944/DSA-MockTest/blob/main/Assignment_Questions_1.ipynb\" target=\"_parent\"><img src=\"https://colab.research.google.com/assets/colab-badge.svg\" alt=\"Open In Colab\"/></a>"
      ]
    },
    {
      "cell_type": "markdown",
      "source": [
        "<aside>\n",
        "💡 **Q1.** Given an array of integers nums and an integer target, return indices of the two numbers such that they add up to target.\n",
        "\n",
        "You may assume that each input would have exactly one solution, and you may not use the same element twice.\n",
        "\n",
        "You can return the answer in any order.\n",
        "\n",
        "**Example:**\n",
        "Input: nums = [2,7,11,15], target = 9\n",
        "Output0 [0,1]\n",
        "\n",
        "**Explanation:** Because nums[0] + nums[1] == 9, we return [0, 1][\n",
        "\n",
        "</aside>"
      ],
      "metadata": {
        "id": "6oqXCKOWAXdo"
      }
    },
    {
      "cell_type": "code",
      "execution_count": 1,
      "metadata": {
        "colab": {
          "base_uri": "https://localhost:8080/"
        },
        "id": "ywdFbsufATCU",
        "outputId": "c0bd50fc-23f4-41da-c4ca-2cc859af1dbf"
      },
      "outputs": [
        {
          "output_type": "stream",
          "name": "stdout",
          "text": [
            "[0, 2]\n"
          ]
        }
      ],
      "source": [
        "def find_target(nums,target):\n",
        "  for i in range(len(nums)):\n",
        "    for j in range(i+1,len(nums)-1):\n",
        "      if nums[j]==target-nums[i]:\n",
        "        return [i,j]\n",
        "  return []\n",
        "\n",
        "\n",
        "nums=[2,7,11,15]\n",
        "target=13\n",
        "output=find_target(nums,target)\n",
        "print(output)"
      ]
    },
    {
      "cell_type": "code",
      "source": [
        "def find_target_hash_table(nums,target):\n",
        "  num_map={}\n",
        "  for i,num in enumerate(nums):\n",
        "    complement=target-num\n",
        "    if complement in num_map:\n",
        "      return [num_map[complement],i]\n",
        "    num_map[num]=i\n",
        "  return []\n",
        "\n",
        "\n",
        "nums=[2,7,11,15]\n",
        "target=9\n",
        "output=find_target_hash_table(nums,target)\n",
        "print(output)"
      ],
      "metadata": {
        "colab": {
          "base_uri": "https://localhost:8080/"
        },
        "id": "2F8hjDVJBQ1g",
        "outputId": "7f64ce1c-2355-4a81-ff02-fad321bce00e"
      },
      "execution_count": null,
      "outputs": [
        {
          "output_type": "stream",
          "name": "stdout",
          "text": [
            "[0, 1]\n"
          ]
        }
      ]
    },
    {
      "cell_type": "markdown",
      "source": [
        "<aside>\n",
        "💡 **Q2.** Given an integer array nums and an integer val, remove all occurrences of val in nums in-place. The order of the elements may be changed. Then return the number of elements in nums which are not equal to val.\n",
        "\n",
        "Consider the number of elements in nums which are not equal to val be k, to get accepted, you need to do the following things:\n",
        "\n",
        "- Change the array nums such that the first k elements of nums contain the elements which are not equal to val. The remaining elements of nums are not important as well as the size of nums.\n",
        "- Return k.\n",
        "\n",
        "**Example :**\n",
        "Input: nums = [3,2,2,3], val = 3\n",
        "Output: 2, nums = [2,2,_*,_*]\n",
        "\n",
        "**Explanation:** Your function should return k = 2, with the first two elements of nums being 2. It does not matter what you leave beyond the returned k (hence they are underscores)[\n",
        "\n",
        "</aside>"
      ],
      "metadata": {
        "id": "3VSCt1ivuu2y"
      }
    },
    {
      "cell_type": "code",
      "source": [
        "def find_nonoccurance(nums,val):\n",
        "  if len(nums)==0:\n",
        "    return 0\n",
        "  j=0\n",
        "  for i in range(len(nums)):\n",
        "    if nums[i]!=val:\n",
        "      nums[j]=nums[i]\n",
        "      j=j+1\n",
        "  return j\n",
        "\n",
        "\n",
        "nums=[33,3,3,3,3,4,2,2,3]\n",
        "val=3\n",
        "result=find_nonoccurance(nums,val)\n",
        "print(result)"
      ],
      "metadata": {
        "colab": {
          "base_uri": "https://localhost:8080/"
        },
        "id": "mma_Jyv8uvd-",
        "outputId": "24e70981-830b-48b1-8226-927a2b8fc76d"
      },
      "execution_count": 9,
      "outputs": [
        {
          "output_type": "stream",
          "name": "stdout",
          "text": [
            "4\n"
          ]
        }
      ]
    },
    {
      "cell_type": "markdown",
      "source": [
        "<aside>\n",
        "💡 **Q3.** Given a sorted array of distinct integers and a target value, return the index if the target is found. If not, return the index where it would be if it were inserted in order.\n",
        "\n",
        "You must write an algorithm with O(log n) runtime complexity.\n",
        "\n",
        "**Example 1:**\n",
        "Input: nums = [1,3,5,6], target = 5\n",
        "\n",
        "Output: 2\n",
        "\n",
        "</aside>"
      ],
      "metadata": {
        "id": "e5tFagHQyM0O"
      }
    },
    {
      "cell_type": "code",
      "source": [
        "def find_index(nums,target):\n",
        "  if len(nums)==0:\n",
        "    return 0\n",
        "  s=0\n",
        "  e=len(nums)-1\n",
        "  while(s<=e):\n",
        "    mid=(s+e)//2\n",
        "    if nums[mid]==target:\n",
        "      return mid\n",
        "    elif nums[mid]<target:\n",
        "      s=mid+1\n",
        "    else:\n",
        "      e=mid-1\n",
        "  return s\n",
        "\n",
        "\n",
        "nums=[1,3,5,6]\n",
        "target=5\n",
        "result=find_index(nums,target)\n",
        "print(result)"
      ],
      "metadata": {
        "colab": {
          "base_uri": "https://localhost:8080/"
        },
        "id": "sSBhHHHOyNVp",
        "outputId": "b86854aa-96fc-4200-a711-d14d3167b88e"
      },
      "execution_count": 10,
      "outputs": [
        {
          "output_type": "stream",
          "name": "stdout",
          "text": [
            "2\n"
          ]
        }
      ]
    },
    {
      "cell_type": "code",
      "source": [
        "nums=[1,3,6,10]\n",
        "target=5\n",
        "result=find_index(nums,target)\n",
        "print(result)"
      ],
      "metadata": {
        "colab": {
          "base_uri": "https://localhost:8080/"
        },
        "id": "t3o21ZmozV1O",
        "outputId": "f6368863-a144-4f9a-d2bf-d11bda319875"
      },
      "execution_count": 11,
      "outputs": [
        {
          "output_type": "stream",
          "name": "stdout",
          "text": [
            "2\n"
          ]
        }
      ]
    },
    {
      "cell_type": "code",
      "source": [],
      "metadata": {
        "id": "LiC8gAQYCDF9"
      },
      "execution_count": null,
      "outputs": []
    },
    {
      "cell_type": "code",
      "source": [],
      "metadata": {
        "id": "kBanUG09FHVW"
      },
      "execution_count": null,
      "outputs": []
    }
  ]
}