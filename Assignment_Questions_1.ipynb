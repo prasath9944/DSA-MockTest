{
  "nbformat": 4,
  "nbformat_minor": 0,
  "metadata": {
    "colab": {
      "provenance": [],
      "authorship_tag": "ABX9TyO8Is6suVKHAwbjzU4k3Pz9",
      "include_colab_link": true
    },
    "kernelspec": {
      "name": "python3",
      "display_name": "Python 3"
    },
    "language_info": {
      "name": "python"
    }
  },
  "cells": [
    {
      "cell_type": "markdown",
      "metadata": {
        "id": "view-in-github",
        "colab_type": "text"
      },
      "source": [
        "<a href=\"https://colab.research.google.com/github/prasath9944/DSA-MockTest/blob/main/Assignment_Questions_1.ipynb\" target=\"_parent\"><img src=\"https://colab.research.google.com/assets/colab-badge.svg\" alt=\"Open In Colab\"/></a>"
      ]
    },
    {
      "cell_type": "markdown",
      "source": [
        "<aside>\n",
        "💡 **Q1.** Given an array of integers nums and an integer target, return indices of the two numbers such that they add up to target.\n",
        "\n",
        "You may assume that each input would have exactly one solution, and you may not use the same element twice.\n",
        "\n",
        "You can return the answer in any order.\n",
        "\n",
        "**Example:**\n",
        "Input: nums = [2,7,11,15], target = 9\n",
        "Output0 [0,1]\n",
        "\n",
        "**Explanation:** Because nums[0] + nums[1] == 9, we return [0, 1][\n",
        "\n",
        "</aside>"
      ],
      "metadata": {
        "id": "6oqXCKOWAXdo"
      }
    },
    {
      "cell_type": "code",
      "execution_count": 15,
      "metadata": {
        "colab": {
          "base_uri": "https://localhost:8080/"
        },
        "id": "ywdFbsufATCU",
        "outputId": "d2f90c61-864f-4835-c2dc-3135d10fb474"
      },
      "outputs": [
        {
          "output_type": "stream",
          "name": "stdout",
          "text": [
            "[0, 2]\n"
          ]
        }
      ],
      "source": [
        "def find_target(nums,target):\n",
        "  for i in range(len(nums)):\n",
        "    for j in range(i+1,len(nums)):\n",
        "      if nums[j]==target-nums[i]:\n",
        "        return [i,j]\n",
        "  return []\n",
        "\n",
        "\n",
        "nums=[2,7,11,15]\n",
        "target=13\n",
        "output=find_target(nums,target)\n",
        "print(output)"
      ]
    },
    {
      "cell_type": "code",
      "source": [
        "def find_target_hash_table(nums,target):\n",
        "  num_map={}\n",
        "  for i,num in enumerate(nums):\n",
        "    complement=target-num\n",
        "    if complement in num_map:\n",
        "      return [num_map[complement],i]\n",
        "    num_map[num]=i\n",
        "  return []\n",
        "\n",
        "\n",
        "nums=[2,7,11,15]\n",
        "target=9\n",
        "output=find_target_hash_table(nums,target)\n",
        "print(output)"
      ],
      "metadata": {
        "colab": {
          "base_uri": "https://localhost:8080/"
        },
        "id": "2F8hjDVJBQ1g",
        "outputId": "7f64ce1c-2355-4a81-ff02-fad321bce00e"
      },
      "execution_count": 19,
      "outputs": [
        {
          "output_type": "stream",
          "name": "stdout",
          "text": [
            "[0, 1]\n"
          ]
        }
      ]
    },
    {
      "cell_type": "code",
      "source": [],
      "metadata": {
        "id": "LiC8gAQYCDF9"
      },
      "execution_count": 19,
      "outputs": []
    },
    {
      "cell_type": "code",
      "source": [],
      "metadata": {
        "id": "kBanUG09FHVW"
      },
      "execution_count": null,
      "outputs": []
    }
  ]
}