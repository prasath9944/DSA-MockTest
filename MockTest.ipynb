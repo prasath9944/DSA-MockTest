{
  "nbformat": 4,
  "nbformat_minor": 0,
  "metadata": {
    "colab": {
      "provenance": []
    },
    "kernelspec": {
      "name": "python3",
      "display_name": "Python 3"
    },
    "language_info": {
      "name": "python"
    }
  },
  "cells": [
    {
      "cell_type": "markdown",
      "source": [
        "Move Zeroes"
      ],
      "metadata": {
        "id": "blHGm3GHiXJ4"
      }
    },
    {
      "cell_type": "code",
      "execution_count": 2,
      "metadata": {
        "colab": {
          "base_uri": "https://localhost:8080/"
        },
        "id": "P13P3EMQhCL5",
        "outputId": "4bac1c87-6e78-4765-9621-daaf0d962690"
      },
      "outputs": [
        {
          "output_type": "stream",
          "name": "stdout",
          "text": [
            "[1, 3, 1, 2, 0, 0]\n"
          ]
        }
      ],
      "source": [
        "\n",
        "def move_Zeroes(arr):\n",
        "  count=0\n",
        "  for i in range(len(arr)):\n",
        "    if arr[i]!=0:\n",
        "      temp=arr[count]\n",
        "      arr[count]=arr[i]\n",
        "      arr[i]=temp\n",
        "      count+=1\n",
        "  return arr\n",
        "\n",
        "\n",
        "arr=[0,1,0,3,1,2]\n",
        "moved_arr=move_Zeroes(arr)\n",
        "print(moved_arr)"
      ]
    },
    {
      "cell_type": "markdown",
      "source": [
        "First Unique Character in a String"
      ],
      "metadata": {
        "id": "TwTMDXbIjW7E"
      }
    },
    {
      "cell_type": "code",
      "source": [
        "def firstUniqChar(s):\n",
        "    char_freq = {}\n",
        "\n",
        "    for char in s:\n",
        "        char_freq[char] = char_freq.get(char, 0) + 1\n",
        "\n",
        "    for i in range(len(s)):\n",
        "        if char_freq[s[i]] == 1:\n",
        "            return i\n",
        "\n",
        "    return -1\n"
      ],
      "metadata": {
        "id": "WBdCjp8yiWKj"
      },
      "execution_count": 3,
      "outputs": []
    },
    {
      "cell_type": "code",
      "source": [
        "print(firstUniqChar(\"leetcode\"))       # Output: 0\n",
        "print(firstUniqChar(\"loveleetcode\"))   # Output: 2\n",
        "print(firstUniqChar(\"aabb\"))           # Output: -1\n"
      ],
      "metadata": {
        "colab": {
          "base_uri": "https://localhost:8080/"
        },
        "id": "U-6wfy5eiVna",
        "outputId": "fa6a7332-55f8-48fb-a3f5-1bcce2483aad"
      },
      "execution_count": 4,
      "outputs": [
        {
          "output_type": "stream",
          "name": "stdout",
          "text": [
            "0\n",
            "2\n",
            "-1\n"
          ]
        }
      ]
    }
  ]
}